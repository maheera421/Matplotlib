{
 "cells": [
  {
   "cell_type": "markdown",
   "id": "7434846b-30ca-4c2d-861d-06da6133d7e1",
   "metadata": {},
   "source": [
    "# Box Plot"
   ]
  },
  {
   "cell_type": "code",
   "execution_count": 2,
   "id": "8437849f-5028-4ac0-bd2e-53ad8a60b5ec",
   "metadata": {},
   "outputs": [],
   "source": [
    "import numpy as np\n",
    "from matplotlib import pyplot as plt"
   ]
  },
  {
   "cell_type": "code",
   "execution_count": 3,
   "id": "b9aa75f2-aa3b-4f9b-97a2-c1d72288796e",
   "metadata": {},
   "outputs": [],
   "source": [
    "one = [1, 2, 3,4,5 ,6 ,7 ,8, 9]\n",
    "two = [1,2,3,4,5,4,3,2,1]\n",
    "three = [6,7,8,9,8,7,6,5,4]\n",
    "\n",
    "data =list([one, two, three])"
   ]
  },
  {
   "cell_type": "markdown",
   "id": "eff7703c-3dd8-48ee-ad78-44d806462f7d",
   "metadata": {},
   "source": [
    "one, two, three were already lists but then they were again combined in a list named as data so that all three lists can be plotted in a single graph"
   ]
  },
  {
   "cell_type": "code",
   "execution_count": 4,
   "id": "ba350f1a-ebea-4fd5-ab3b-7c0d06437310",
   "metadata": {},
   "outputs": [
    {
     "data": {
      "image/png": "[encoded data removed]",
      "text/plain": [
       "<Figure size 640x480 with 1 Axes>"
      ]
     },
     "metadata": {},
     "output_type": "display_data"
    }
   ],
   "source": [
    "plt.boxplot(data)\n",
    "plt.show()"
   ]
  },
  {
   "cell_type": "markdown",
   "id": "232e310c-97b9-4823-95d9-f644cd80349e",
   "metadata": {},
   "source": [
    "top represents the maximum value in data list item"
   ]
  },
  {
   "cell_type": "markdown",
   "id": "4b67f395-2115-4658-becc-d8a18998a60d",
   "metadata": {},
   "source": [
    "yellow line represents median value in the data list item"
   ]
  },
  {
   "cell_type": "markdown",
   "id": "96629a83-f5b7-47c4-88ca-aec4483332d0",
   "metadata": {},
   "source": [
    "bottom shows minimum value in the data list item"
   ]
  },
  {
   "cell_type": "code",
   "execution_count": null,
   "id": "50270679-b777-4c70-a2eb-8d4db2b7c0a8",
   "metadata": {},
   "outputs": [],
   "source": []
  }
 ],
 "metadata": {
  "kernelspec": {
   "display_name": "Python 3 (ipykernel)",
   "language": "python",
   "name": "python3"
  },
  "language_info": {
   "codemirror_mode": {
    "name": "ipython",
    "version": 3
   },
   "file_extension": ".py",
   "mimetype": "text/x-python",
   "name": "python",
   "nbconvert_exporter": "python",
   "pygments_lexer": "ipython3",
   "version": "3.11.5"
  }
 },
 "nbformat": 4,
 "nbformat_minor": 5
}
